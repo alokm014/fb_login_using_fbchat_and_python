{
 "cells": [
  {
   "cell_type": "markdown",
   "metadata": {},
   "source": [
    "# Send msg To your friend by search"
   ]
  },
  {
   "cell_type": "code",
   "execution_count": null,
   "metadata": {},
   "outputs": [],
   "source": [
    "import fbchat \n",
    "from getpass import getpass\n",
    "\n",
    "username = str(raw_input(\"Username: \"))\n",
    "client = fbchat.Client(username, getpass())\n",
    "\n",
    "no_of_friends = int(raw_input(\"Number of friends: \")) \n",
    "\n",
    "for i in xrange(no_of_friends): \n",
    "    \n",
    "    name = str(raw_input(\"Name: \"))\n",
    "    \n",
    "    friends = client.searchForUsers(name)  # return a list of names\n",
    "    \n",
    "    friend = friends[0]\n",
    "    \n",
    "    msg = raw_input(\"Message: \") \n",
    "    \n",
    "    sent = client.send(Message(text = msg), thread_id = int(friend.uid), thread_type=ThreadType.USER)\n",
    "    \n",
    "    if sent: \n",
    "        \n",
    "        print(\"Message sent successfully!\")"
   ]
  },
  {
   "cell_type": "markdown",
   "metadata": {},
   "source": [
    "# Send msg to your friend by uid"
   ]
  },
  {
   "cell_type": "code",
   "execution_count": null,
   "metadata": {},
   "outputs": [],
   "source": [
    "from fbchat import Client\n",
    "from fbchat.models import *\n",
    "import pandas as pd\n",
    "import time\n",
    "\n",
    "# reading csv file  \n",
    "df = pd.read_csv(\"credentials.csv\", encoding='utf-8')\n",
    "\n",
    "# reading username\n",
    "myUsername = df.Username[0]\n",
    "\n",
    "# reading password\n",
    "myPassword = df.Password[0]\n",
    "\n",
    "client = Client(myUsername, myPassword)\n",
    "\n",
    "print(\"Own id: {}\".format(client.uid))\n",
    "\n",
    "client.send(Message(text=\"Hi Sir it is me ur BOT! RoboPathshala\"), thread_id= 100004272157708, thread_type=ThreadType.USER)\n"
   ]
  },
  {
   "cell_type": "markdown",
   "metadata": {},
   "source": [
    "# Search your Friend by Name"
   ]
  },
  {
   "cell_type": "code",
   "execution_count": null,
   "metadata": {},
   "outputs": [],
   "source": [
    "users = client.searchForUsers('friend name')\n",
    "user = users[0]\n",
    "\n",
    "print(\"User's ID: {}\".format(user.uid))\n",
    "print(\"User's name: {}\".format(user.name))\n",
    "print(\"User's profile picture url: {}\".format(user.photo))\n",
    "print(\"User's main url: {}\".format(user.url))"
   ]
  },
  {
   "cell_type": "markdown",
   "metadata": {},
   "source": [
    "# Fetches a list of users"
   ]
  },
  {
   "cell_type": "code",
   "execution_count": null,
   "metadata": {},
   "outputs": [],
   "source": [
    "# Fetches a list of all users you're currently chatting with, as `User` objects\n",
    "users = client.fetchAllUsers()\n",
    "\n",
    "Username = []\n",
    "Uid = []\n",
    "\n",
    "for user in users:\n",
    "    \n",
    "    Username.append(user.name)\n",
    "    Uid.append(user.uid)\n",
    "  \n",
    "# dictionary of lists  \n",
    "dict = {'username': Username, 'uid': Uid}\n",
    "\n",
    "df = pd.DataFrame(dict)\n",
    "    "
   ]
  },
  {
   "cell_type": "code",
   "execution_count": null,
   "metadata": {},
   "outputs": [],
   "source": [
    "df"
   ]
  },
  {
   "cell_type": "code",
   "execution_count": null,
   "metadata": {},
   "outputs": [],
   "source": [
    "# Fetches a list of the 10 top threads you're currently chatting with\n",
    "\n",
    "threads = client.fetchThreadList(limit=10)\n",
    "\n",
    "Username = []\n",
    "Uid = []\n",
    "\n",
    "\n",
    "for user in threads:\n",
    "    Username.append(user.name)\n",
    "    Uid.append(user.uid)\n",
    "  \n",
    "# dictionary of lists  \n",
    "dict = {'username': Username, 'uid': Uid}\n",
    "\n",
    "df = pd.DataFrame(dict)\n"
   ]
  },
  {
   "cell_type": "code",
   "execution_count": null,
   "metadata": {},
   "outputs": [],
   "source": [
    "df"
   ]
  },
  {
   "cell_type": "markdown",
   "metadata": {},
   "source": [
    "# Read msg"
   ]
  },
  {
   "cell_type": "code",
   "execution_count": null,
   "metadata": {},
   "outputs": [],
   "source": [
    "# Gets the last 10 messages sent to the thread\n",
    "messages = client.fetchThreadMessages(thread_id=100003260995236, limit=10)\n",
    "# Since the message come in reversed order, reverse them\n",
    "messages.reverse()\n",
    "# Prints the content of all the messages\n",
    "for message in messages:\n",
    "    print(message.text)"
   ]
  },
  {
   "cell_type": "markdown",
   "metadata": {},
   "source": [
    "# Send msg to your friends "
   ]
  },
  {
   "cell_type": "code",
   "execution_count": null,
   "metadata": {},
   "outputs": [],
   "source": [
    "for x in range(len(df)):\n",
    "   \n",
    "    msg = \"Sorry, I am testing my BOT\"\n",
    "    \n",
    "    client.send(Message(text = msg), thread_id= int(df.uid[x]), thread_type=ThreadType.USER)\n",
    "    time.sleep(10)\n"
   ]
  },
  {
   "cell_type": "code",
   "execution_count": null,
   "metadata": {},
   "outputs": [],
   "source": [
    "client.logout()"
   ]
  },
  {
   "cell_type": "code",
   "execution_count": null,
   "metadata": {},
   "outputs": [],
   "source": []
  }
 ],
 "metadata": {
  "kernelspec": {
   "display_name": "Python 2",
   "language": "python",
   "name": "python2"
  },
  "language_info": {
   "codemirror_mode": {
    "name": "ipython",
    "version": 2
   },
   "file_extension": ".py",
   "mimetype": "text/x-python",
   "name": "python",
   "nbconvert_exporter": "python",
   "pygments_lexer": "ipython2",
   "version": "2.7.16"
  }
 },
 "nbformat": 4,
 "nbformat_minor": 2
}
